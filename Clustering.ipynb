{
 "cells": [
  {
   "cell_type": "markdown",
   "source": [
    "# Setup"
   ],
   "metadata": {
    "collapsed": false,
    "pycharm": {
     "name": "#%% md\n"
    }
   }
  },
  {
   "cell_type": "markdown",
   "source": [
    "## Load with astroNN\n"
   ],
   "metadata": {
    "collapsed": false,
    "pycharm": {
     "name": "#%% md\n"
    }
   }
  },
  {
   "cell_type": "markdown",
   "source": [],
   "metadata": {
    "collapsed": false,
    "pycharm": {
     "name": "#%% md\n"
    }
   }
  },
  {
   "cell_type": "code",
   "execution_count": 1,
   "outputs": [
    {
     "name": "stdout",
     "output_type": "stream",
     "text": [
      "WARNING! APOGEE environment variable SDSS_LOCAL_SAS_MIRROR not set\n",
      "WARNING! Gaia environment variable GAIA_TOOLS_DATA not set\n"
     ]
    }
   ],
   "source": [
    "from astroNN.datasets import galaxy10\n",
    "from astroNN.datasets.galaxy10 import galaxy10cls_lookup\n",
    "from sklearn.model_selection import StratifiedShuffleSplit\n",
    "# from tensorflow.keras import utils\n",
    "import numpy as np\n",
    "from matplotlib import pyplot as plt\n",
    "\n",
    "from sklearn.decomposition import PCA\n",
    "from sklearn.cluster import KMeans\n",
    "from sklearn.metrics import silhouette_score\n",
    "\n"
   ],
   "metadata": {
    "collapsed": false,
    "pycharm": {
     "name": "#%%\n"
    }
   }
  },
  {
   "cell_type": "code",
   "execution_count": 141,
   "outputs": [
    {
     "name": "stdout",
     "output_type": "stream",
     "text": [
      "C:\\Users\\jaime\\.astroNN\\datasets\\Galaxy10.h5 was found!\n"
     ]
    }
   ],
   "source": [
    "\n",
    "#jrv: this codes are from here https://github.com/henrysky/astroNN/blob/master/demo_tutorial/galaxy10/Galaxy10_Tutorial.ipynb\n",
    "\n",
    "\n",
    "# To load images and labels (will download automatically at the first time)\n",
    "# First time downloading location will be ~/.astroNN/datasets/\n",
    "\n",
    "images, labels = galaxy10.load_data()\n",
    "\n",
    "smaller_size_for_my_weak_pc = 1000\n",
    "images, labels = images[:smaller_size_for_my_weak_pc], labels[:smaller_size_for_my_weak_pc]\n",
    "\n",
    "if (np.unique(labels)!=np.arange(10)).all(): #if this is true it means that when making the sample smaller we did not get all the labels so we should take a bigger sample\n",
    "    raise ValueError('Not all of the labels are in the smaller sample')\n",
    "\n",
    "# # To convert the labels to categorical 10 classes\n",
    "# labels = utils.to_categorical(labels, 10)\n",
    "\n",
    "\n",
    "\n",
    "\n",
    "# Select 10 (np.unique(labels)!=np.arange(10)).all()of the images to inspect\n",
    "# img = None\n",
    "# plt.ion()\n",
    "# print('===================Data Inspection===================')\n",
    "# # for counter, i in enumerate(range(np.random.randint(0, labels.shape[0], size=10).shape[0])):\n",
    "# for counter, i in enumerate(range(np.random.randint(0, labels.shape[0], size=1).shape[0])):\n",
    "#     img = plt.imshow(images[i])\n",
    "#     plt.title('Class {}: {} \\n Random Demo images {} of 10'.format(np.argmax(labels[i]), galaxy10cls_lookup(labels[i]), counter+1))\n",
    "#     plt.draw()\n",
    "#     plt.pause(2.)\n",
    "# plt.close('all')\n",
    "# print('===============Data Inspection Finished===============')\n",
    "#\n",
    "#\n",
    "#\n",
    "\n",
    "# # To convert to desirable type\n",
    "# labels = labels.astype(np.float32)\n",
    "# images = images.astype(np.float32)"
   ],
   "metadata": {
    "collapsed": false,
    "pycharm": {
     "name": "#%%\n"
    }
   }
  },
  {
   "cell_type": "markdown",
   "source": [
    "# Starting here taken from exercise 10 chapter 9 Hands on Ml"
   ],
   "metadata": {
    "collapsed": false,
    "pycharm": {
     "name": "#%% md\n"
    }
   }
  },
  {
   "cell_type": "markdown",
   "source": [
    "## First attempt"
   ],
   "metadata": {
    "collapsed": false,
    "pycharm": {
     "name": "#%% md\n"
    }
   }
  },
  {
   "cell_type": "code",
   "execution_count": 142,
   "outputs": [],
   "source": [
    "strat_split = StratifiedShuffleSplit(n_splits=1, test_size=0.2, random_state=42)\n",
    "images = images.reshape(images.shape[0],-1)\n",
    "\n",
    "train_valid_idx, test_idx = next(strat_split.split(images, labels))\n",
    "X_train_valid = images[train_valid_idx]\n",
    "y_train_valid = labels[train_valid_idx]\n",
    "X_test = images[test_idx]\n",
    "y_test = labels[test_idx]\n",
    "\n",
    "strat_split = StratifiedShuffleSplit(n_splits=1, test_size=0.2, random_state=43)\n",
    "train_idx, valid_idx = next(strat_split.split(X_train_valid, y_train_valid))\n",
    "X_train = X_train_valid[train_idx]\n",
    "y_train = y_train_valid[train_idx]\n",
    "X_valid = X_train_valid[valid_idx]\n",
    "y_valid = y_train_valid[valid_idx]"
   ],
   "metadata": {
    "collapsed": false,
    "pycharm": {
     "name": "#%%\n"
    }
   }
  },
  {
   "cell_type": "code",
   "execution_count": 143,
   "outputs": [
    {
     "name": "stdout",
     "output_type": "stream",
     "text": [
      "(640, 14283) (640,)\n",
      "(160, 14283) (160,)\n",
      "(200, 14283) (200,)\n"
     ]
    }
   ],
   "source": [
    "print(X_train.shape, y_train.shape)\n",
    "print(X_valid.shape, y_valid.shape)\n",
    "print(X_test.shape, y_test.shape)"
   ],
   "metadata": {
    "collapsed": false,
    "pycharm": {
     "name": "#%%\n"
    }
   }
  },
  {
   "cell_type": "markdown",
   "source": [
    "To speed things up, we’ll reduce the data’s dimensionality using PCA:"
   ],
   "metadata": {
    "collapsed": false,
    "pycharm": {
     "name": "#%% md\n"
    }
   }
  },
  {
   "cell_type": "code",
   "execution_count": 144,
   "outputs": [],
   "source": [
    "pca = PCA(0.99)\n",
    "X_train_pca = pca.fit_transform(X_train)\n",
    "X_valid_pca = pca.transform(X_valid)\n",
    "X_test_pca = pca.transform(X_test)"
   ],
   "metadata": {
    "collapsed": false,
    "pycharm": {
     "name": "#%%\n"
    }
   }
  },
  {
   "cell_type": "markdown",
   "source": [
    "Next, cluster the images using K-Means, and ensure that you have a good number of clusters (using one of the techniques discussed in this chapter)"
   ],
   "metadata": {
    "collapsed": false,
    "pycharm": {
     "name": "#%% md\n"
    }
   }
  },
  {
   "cell_type": "code",
   "execution_count": 145,
   "outputs": [],
   "source": [
    "from sklearn.cluster import KMeans\n",
    "\n",
    "k_range = range(2,100,5) #DOUBT: how to know initially that the range makes sense till 150?\n",
    "kmeans_per_k = []\n",
    "for k in k_range:\n",
    "    kmeans = KMeans(n_clusters=k, random_state=42).fit(X_train_pca)\n",
    "    kmeans_per_k.append(kmeans)"
   ],
   "metadata": {
    "collapsed": false,
    "pycharm": {
     "name": "#%%\n"
    }
   }
  },
  {
   "cell_type": "code",
   "execution_count": 146,
   "outputs": [
    {
     "data": {
      "text/plain": "<Figure size 576x216 with 1 Axes>",
      "image/png": "[encoded data removed]"
     },
     "metadata": {
      "needs_background": "light"
     },
     "output_type": "display_data"
    }
   ],
   "source": [
    "from sklearn.metrics import silhouette_score\n",
    "\n",
    "silhouette_scores = [silhouette_score(X_train_pca, model.labels_)\n",
    "                     for model in kmeans_per_k]\n",
    "best_index = np.argmax(silhouette_scores)\n",
    "best_k = k_range[best_index]\n",
    "best_score = silhouette_scores[best_index]\n",
    "\n",
    "plt.figure(figsize=(8, 3))\n",
    "plt.plot(k_range, silhouette_scores, \"bo-\")\n",
    "plt.xlabel(\"$k$\", fontsize=14)\n",
    "plt.ylabel(\"Silhouette score\", fontsize=14)\n",
    "plt.plot(best_k, best_score, \"rs\")\n",
    "plt.show()"
   ],
   "metadata": {
    "collapsed": false,
    "pycharm": {
     "name": "#%%\n"
    }
   }
  },
  {
   "cell_type": "markdown",
   "source": [
    "Accourding to the Silhouette score the best number of clusters to choose is around 2. This initially does not look good since we know we are working with 10 different types of galaxies"
   ],
   "metadata": {
    "collapsed": false,
    "pycharm": {
     "name": "#%% md\n"
    }
   }
  },
  {
   "cell_type": "code",
   "execution_count": 147,
   "outputs": [
    {
     "data": {
      "text/plain": "(array([140., 323., 288.,  12.,  75.,   3.,  26.,  57.,  50.,  26.]),\n array([0. , 0.9, 1.8, 2.7, 3.6, 4.5, 5.4, 6.3, 7.2, 8.1, 9. ]),\n <BarContainer object of 10 artists>)"
     },
     "execution_count": 147,
     "metadata": {},
     "output_type": "execute_result"
    },
    {
     "data": {
      "text/plain": "<Figure size 432x288 with 1 Axes>",
      "image/png": "[encoded data removed]"
     },
     "metadata": {
      "needs_background": "light"
     },
     "output_type": "display_data"
    }
   ],
   "source": [
    "plt.hist(labels)"
   ],
   "metadata": {
    "collapsed": false,
    "pycharm": {
     "name": "#%%\n"
    }
   }
  },
  {
   "cell_type": "markdown",
   "source": [
    "In the histogram for the labels we can see that this we have a very skewed distribution with a couple of galaxies being the most predominant. That might explain why we are getting such a low *k* with the silhouette score. To fix it we can resample in order to get a more balanced distribution of galaxies"
   ],
   "metadata": {
    "collapsed": false,
    "pycharm": {
     "name": "#%% md\n"
    }
   }
  },
  {
   "cell_type": "markdown",
   "source": [
    "## Second attempt\n"
   ],
   "metadata": {
    "collapsed": false,
    "pycharm": {
     "name": "#%% md\n"
    }
   }
  },
  {
   "cell_type": "code",
   "execution_count": 148,
   "outputs": [
    {
     "name": "stdout",
     "output_type": "stream",
     "text": [
      "C:\\Users\\jaime\\.astroNN\\datasets\\Galaxy10.h5 was found!\n"
     ]
    }
   ],
   "source": [
    "#here I take a random number of pictures (between 80 and 120) from each different kind of galaxy\n",
    "\n",
    "images, labels = galaxy10.load_data()\n"
   ],
   "metadata": {
    "collapsed": false,
    "pycharm": {
     "name": "#%%\n"
    }
   }
  },
  {
   "cell_type": "code",
   "execution_count": 149,
   "outputs": [
    {
     "name": "stdout",
     "output_type": "stream",
     "text": [
      "15  images taken for type  0\n",
      "18  images taken for type  1\n",
      "16  images taken for type  2\n",
      "16  images taken for type  3\n",
      "16  images taken for type  4\n",
      "15  images taken for type  5\n",
      "16  images taken for type  6\n",
      "17  images taken for type  7\n",
      "18  images taken for type  8\n",
      "17  images taken for type  9\n"
     ]
    }
   ],
   "source": [
    "new_images = np.empty((1,69,69,3))\n",
    "new_labels = np.empty((1))\n",
    "for cluster_id in np.unique(labels):\n",
    "    # print(\"Cluster\", cluster_id)\n",
    "    images_in_this_cluster = images[labels == cluster_id]\n",
    "    labels_in_this_cluster = labels[labels == cluster_id]\n",
    "    size_sample_from_this_cluster = np.random.randint(15,20)\n",
    "    temp_images = images_in_this_cluster[:size_sample_from_this_cluster]\n",
    "    temp_labels = labels_in_this_cluster[:size_sample_from_this_cluster]\n",
    "    print(len(temp_images), \" images taken for type \", cluster_id)\n",
    "    new_images = np.concatenate((new_images,temp_images),axis=0)\n",
    "    new_labels = np.concatenate((new_labels,temp_labels),axis=0)\n",
    "\n",
    "new_images = new_images[1:,:] #drop the first dimension what I initialized with np.empty so I could concatenate\n",
    "new_labels = new_labels[1:] #drop the first dimension what I initialized with np.empty so I could concatenate"
   ],
   "metadata": {
    "collapsed": false,
    "pycharm": {
     "name": "#%%\n"
    }
   }
  },
  {
   "cell_type": "code",
   "execution_count": 150,
   "outputs": [
    {
     "data": {
      "text/plain": "'Disk, Edge-on, Boxy Bulge'"
     },
     "execution_count": 150,
     "metadata": {},
     "output_type": "execute_result"
    }
   ],
   "source": [
    "galaxy10cls_lookup(5)"
   ],
   "metadata": {
    "collapsed": false,
    "pycharm": {
     "name": "#%%\n"
    }
   }
  },
  {
   "cell_type": "markdown",
   "source": [
    "Now we have more or less the same number of galaxies from each type, besides for the type 5. That is simply because we do not have many pictures from 'Disk, Edge-on, Boxy Bulge' galaxies"
   ],
   "metadata": {
    "collapsed": false,
    "pycharm": {
     "name": "#%% md\n"
    }
   }
  },
  {
   "cell_type": "code",
   "execution_count": 151,
   "outputs": [
    {
     "data": {
      "text/plain": "(164, 69, 69, 3)"
     },
     "execution_count": 151,
     "metadata": {},
     "output_type": "execute_result"
    }
   ],
   "source": [
    "new_images.shape"
   ],
   "metadata": {
    "collapsed": false,
    "pycharm": {
     "name": "#%%\n"
    }
   }
  },
  {
   "cell_type": "code",
   "execution_count": 152,
   "outputs": [
    {
     "data": {
      "text/plain": "(array([15., 18., 16., 16., 16., 15., 16., 17., 18., 17.]),\n array([0. , 0.9, 1.8, 2.7, 3.6, 4.5, 5.4, 6.3, 7.2, 8.1, 9. ]),\n <BarContainer object of 10 artists>)"
     },
     "execution_count": 152,
     "metadata": {},
     "output_type": "execute_result"
    },
    {
     "data": {
      "text/plain": "<Figure size 432x288 with 1 Axes>",
      "image/png": "[encoded data removed]"
     },
     "metadata": {
      "needs_background": "light"
     },
     "output_type": "display_data"
    }
   ],
   "source": [
    "\n",
    "if (np.unique(labels)!=np.arange(10)).all(): #if this is true it means that when making the sample smaller we did not get all the labels so we should take a bigger sample\n",
    "    raise ValueError('Not all of the labels are in the smaller sample')\n",
    "\n",
    "plt.hist(new_labels)"
   ],
   "metadata": {
    "collapsed": false,
    "pycharm": {
     "name": "#%%\n"
    }
   }
  },
  {
   "cell_type": "markdown",
   "source": [
    "Now the distribution looks better. Let's repeat the whole process of splitting, applying PCA, training and ploting the silhouette scores:"
   ],
   "metadata": {
    "collapsed": false,
    "pycharm": {
     "name": "#%% md\n"
    }
   }
  },
  {
   "cell_type": "markdown",
   "source": [],
   "metadata": {
    "collapsed": false,
    "pycharm": {
     "name": "#%% md\n"
    }
   }
  },
  {
   "cell_type": "code",
   "execution_count": 153,
   "outputs": [
    {
     "name": "stdout",
     "output_type": "stream",
     "text": [
      "Here the shapes again for train, validation and test sets: \n",
      "(104, 14283) (104,)\n",
      "(27, 14283) (27,)\n",
      "(33, 14283) (33,)\n"
     ]
    },
    {
     "data": {
      "text/plain": "<Figure size 576x216 with 1 Axes>",
      "image/png": "[encoded data removed]"
     },
     "metadata": {
      "needs_background": "light"
     },
     "output_type": "display_data"
    }
   ],
   "source": [
    "\n",
    "strat_split = StratifiedShuffleSplit(n_splits=1, test_size=0.2, random_state=42)\n",
    "new_images = new_images.reshape(new_images.shape[0],-1)\n",
    "\n",
    "train_valid_idx, test_idx = next(strat_split.split(new_images, new_labels))\n",
    "X_train_valid = new_images[train_valid_idx]\n",
    "y_train_valid = new_labels[train_valid_idx]\n",
    "X_test = new_images[test_idx]\n",
    "y_test = new_labels[test_idx]\n",
    "\n",
    "strat_split = StratifiedShuffleSplit(n_splits=1, test_size=0.2, random_state=43)\n",
    "train_idx, valid_idx = next(strat_split.split(X_train_valid, y_train_valid))\n",
    "X_train = X_train_valid[train_idx]\n",
    "y_train = y_train_valid[train_idx]\n",
    "X_valid = X_train_valid[valid_idx]\n",
    "y_valid = y_train_valid[valid_idx]\n",
    "\n",
    "print(\"Here the shapes again for train, validation and test sets: \")\n",
    "print(X_train.shape, y_train.shape)\n",
    "print(X_valid.shape, y_valid.shape)\n",
    "print(X_test.shape, y_test.shape)\n",
    "\n",
    "pca = PCA(0.99)\n",
    "X_train_pca = pca.fit_transform(X_train)\n",
    "X_valid_pca = pca.transform(X_valid)\n",
    "X_test_pca = pca.transform(X_test)\n",
    "\n",
    "k_range = range(2,100,5) #DOUBT: how to know initially that the range makes sense till 150?\n",
    "kmeans_per_k = []\n",
    "for k in k_range:\n",
    "    kmeans = KMeans(n_clusters=k, random_state=42).fit(X_train_pca)\n",
    "    kmeans_per_k.append(kmeans)\n",
    "\n",
    "silhouette_scores = [silhouette_score(X_train_pca, model.labels_)\n",
    "                     for model in kmeans_per_k]\n",
    "best_index = np.argmax(silhouette_scores)\n",
    "best_k = k_range[best_index]\n",
    "best_score = silhouette_scores[best_index]\n",
    "\n",
    "plt.figure(figsize=(8, 3))\n",
    "plt.plot(k_range, silhouette_scores, \"bo-\")\n",
    "plt.xlabel(\"$k$\", fontsize=14)\n",
    "plt.ylabel(\"Silhouette score\", fontsize=14)\n",
    "plt.plot(best_k, best_score, \"rs\")\n",
    "plt.show()"
   ],
   "metadata": {
    "collapsed": false,
    "pycharm": {
     "name": "#%%\n"
    }
   }
  },
  {
   "cell_type": "code",
   "execution_count": 153,
   "outputs": [],
   "source": [
    "# XAKI : blocked because I do not know why it keeps decreasing. I posted it here https://stackoverflow.com/questions/71808028/silhouette-scores-for-clustering-decreases-with-k"
   ],
   "metadata": {
    "collapsed": false,
    "pycharm": {
     "name": "#%%\n"
    }
   }
  },
  {
   "cell_type": "code",
   "execution_count": 153,
   "outputs": [],
   "source": [],
   "metadata": {
    "collapsed": false,
    "pycharm": {
     "name": "#%%\n"
    }
   }
  },
  {
   "cell_type": "code",
   "execution_count": null,
   "outputs": [],
   "source": [],
   "metadata": {
    "collapsed": false,
    "pycharm": {
     "name": "#%%\n"
    }
   }
  }
 ],
 "metadata": {
  "kernelspec": {
   "display_name": "Python 3",
   "language": "python",
   "name": "python3"
  },
  "language_info": {
   "codemirror_mode": {
    "name": "ipython",
    "version": 2
   },
   "file_extension": ".py",
   "mimetype": "text/x-python",
   "name": "python",
   "nbconvert_exporter": "python",
   "pygments_lexer": "ipython2",
   "version": "2.7.6"
  }
 },
 "nbformat": 4,
 "nbformat_minor": 0
}